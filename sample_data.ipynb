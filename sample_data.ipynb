{
 "cells": [
  {
   "cell_type": "markdown",
   "metadata": {},
   "source": [
    "# Sample Data Seeder\n",
    "\n",
    "- 4 customers\n",
    "- 4-5 restaurants per city (Mumbai, Bangalore)\n",
    "- 5 successful payments per customer with corresponding orders\n",
    "\n",
    "This notebook resets existing data for a clean demo run."
   ]
  },
  {
   "cell_type": "code",
   "execution_count": 1,
   "id": "c9f53caa",
   "metadata": {},
   "outputs": [
    {
     "name": "stdout",
     "output_type": "stream",
     "text": [
      "Database reset complete.\n"
     ]
    }
   ],
   "source": [
    "from sqlmodel import Session, select, delete\n",
    "from App.database import init_db, engine\n",
    "from App.models import (\n",
    "    Customers, Payments, Orders, Restaurants,\n",
    "    PaymentStatus, PaymentType, OrderFoodItem, RestaurantAreaName\n",
    ")\n",
    "import random\n",
    "from datetime import datetime, timedelta, timezone\n",
    "\n",
    "# Initialize tables if not present\n",
    "init_db()\n",
    "\n",
    "# Helper: reset existing data for repeatable demos\n",
    "def reset_data():\n",
    "    with Session(engine) as session:\n",
    "        session.exec(delete(Orders))\n",
    "        session.exec(delete(Payments))\n",
    "        session.exec(delete(Restaurants))\n",
    "        session.exec(delete(Customers))\n",
    "        session.commit()\n",
    "\n",
    "reset_data()\n",
    "print(\"Database reset complete.\")"
   ]
  },
  {
   "cell_type": "code",
   "execution_count": 2,
   "id": "6edd7603",
   "metadata": {},
   "outputs": [
    {
     "name": "stdout",
     "output_type": "stream",
     "text": [
      "Created 4 Mumbai restaurants and 5 Bangalore restaurants.\n"
     ]
    }
   ],
   "source": [
    "# Seed restaurants: 4-5 in each city\n",
    "mumbai_names = [\"Bombay Bites\", \"Marine Spice\", \"Gateway Grills\", \"Colaba Curry\", \"Dadar Deli\"]\n",
    "blr_names = [\"Garden Greens\", \"Indiranagar Eats\", \"Koramangala Kitchen\", \"MG Road Meals\", \"Whitefield Wraps\"]\n",
    "\n",
    "random.shuffle(mumbai_names)\n",
    "random.shuffle(blr_names)\n",
    "mumbai_pick = mumbai_names[:random.randint(4,5)]\n",
    "blr_pick = blr_names[:random.randint(4,5)]\n",
    "\n",
    "with Session(engine) as session:\n",
    "    for name in mumbai_pick:\n",
    "        session.add(Restaurants(name=name, area=RestaurantAreaName.MUMBAI))\n",
    "    for name in blr_pick:\n",
    "        session.add(Restaurants(name=name, area=RestaurantAreaName.BANGALORE))\n",
    "    session.commit()\n",
    "\n",
    "print(f\"Created {len(mumbai_pick)} Mumbai restaurants and {len(blr_pick)} Bangalore restaurants.\")"
   ]
  },
  {
   "cell_type": "code",
   "execution_count": 3,
   "id": "0e106faf",
   "metadata": {},
   "outputs": [
    {
     "name": "stdout",
     "output_type": "stream",
     "text": [
      "Created 4 customers.\n"
     ]
    }
   ],
   "source": [
    "# Seed customers (4)\n",
    "customers_seed = [\n",
    "    {\"google_id\": \"gid_1\", \"name\": \"Alice Johnson\", \"age\": 28},\n",
    "    {\"google_id\": \"gid_2\", \"name\": \"Bob Singh\", \"age\": 34},\n",
    "    {\"google_id\": \"gid_3\", \"name\": \"Chetan Rao\", \"age\": 26},\n",
    "    {\"google_id\": \"gid_4\", \"name\": \"Diya Patel\", \"age\": 31},\n",
    "]\n",
    "\n",
    "with Session(engine) as session:\n",
    "    for c in customers_seed:\n",
    "        session.add(Customers(**c))\n",
    "    session.commit()\n",
    "\n",
    "print(\"Created 4 customers.\")"
   ]
  },
  {
   "cell_type": "code",
   "execution_count": 4,
   "id": "19fc8585",
   "metadata": {},
   "outputs": [
    {
     "name": "stdout",
     "output_type": "stream",
     "text": [
      "Created payments and orders: 5 per customer with realistic timestamps and locations.\n"
     ]
    }
   ],
   "source": [
    "# Create 5 successful payments and corresponding orders for each customer\n",
    "items = [\n",
    "    OrderFoodItem.VEG_MANCHURIAN,\n",
    "    OrderFoodItem.CHICKEN_MANCHURIAN,\n",
    "    OrderFoodItem.VEG_FRIED_RICE,\n",
    "    OrderFoodItem.CHICKEN_FRIED_RICE,\n",
    "]\n",
    "\n",
    "random.seed(42)\n",
    "now = datetime.now(timezone.utc)\n",
    "\n",
    "# Helpers to generate dates\n",
    "first_of_this_month = datetime(now.year, now.month, 1, tzinfo=timezone.utc)\n",
    "last_month_end = first_of_this_month - timedelta(seconds=1)\n",
    "first_of_last_month = datetime(last_month_end.year, last_month_end.month, 1, tzinfo=timezone.utc)\n",
    "\n",
    "def random_dt_in_last_month():\n",
    "    span_days = (last_month_end.date() - first_of_last_month.date()).days\n",
    "    offset = random.randint(0, max(span_days, 0))\n",
    "    # randomize time within the day\n",
    "    hour = random.randint(9, 22)\n",
    "    minute = random.randint(0, 59)\n",
    "    second = random.randint(0, 59)\n",
    "    d = first_of_last_month + timedelta(days=offset, hours=hour, minutes=minute, seconds=second)\n",
    "    return d\n",
    "\n",
    "\n",
    "def random_dt_past_days(days:int=7):\n",
    "    offset = random.randint(0, max(days-1, 0))\n",
    "    hour = random.randint(9, 22)\n",
    "    minute = random.randint(0, 59)\n",
    "    second = random.randint(0, 59)\n",
    "    return now - timedelta(days=offset, hours=(23-hour), minutes=(59-minute), seconds=(59-second))\n",
    "\n",
    "with Session(engine) as session:\n",
    "    restaurants = session.exec(select(Restaurants)).all()\n",
    "    customers = session.exec(select(Customers)).all()\n",
    "\n",
    "    mumbai_restaurants = [r for r in restaurants if r.area == RestaurantAreaName.MUMBAI]\n",
    "    blr_restaurants = [r for r in restaurants if r.area == RestaurantAreaName.BANGALORE]\n",
    "\n",
    "    for cust in customers:\n",
    "        for i in range(5):\n",
    "            # Amount and type\n",
    "            amt = round(random.uniform(150, 800), 2)\n",
    "            ptype = random.choice([PaymentType.CARD, PaymentType.UPI])\n",
    "\n",
    "            # Decide scenario and timestamps\n",
    "            if i == 2 and mumbai_restaurants:\n",
    "                # Ensure at least one Mumbai order last month\n",
    "                created_at_dt = random_dt_in_last_month()\n",
    "                restaurant = random.choice(mumbai_restaurants)\n",
    "                item = random.choice(items)\n",
    "            elif i in (0, 1) and blr_restaurants:\n",
    "                # Ensure at least two veg orders in Bangalore (for veg earnings)\n",
    "                created_at_dt = random_dt_past_days(7)\n",
    "                restaurant = random.choice(blr_restaurants)\n",
    "                item = random.choice([OrderFoodItem.VEG_MANCHURIAN, OrderFoodItem.VEG_FRIED_RICE])\n",
    "            else:\n",
    "                # Spread across past 7 days and random city\n",
    "                created_at_dt = random_dt_past_days(7)\n",
    "                # random city\n",
    "                if blr_restaurants and (not mumbai_restaurants or random.random() < 0.5):\n",
    "                    restaurant = random.choice(blr_restaurants)\n",
    "                else:\n",
    "                    restaurant = random.choice(mumbai_restaurants)\n",
    "                item = random.choice(items)\n",
    "\n",
    "            # Create payment and order with aligned timestamps\n",
    "            payment = Payments(\n",
    "                status=PaymentStatus.PASS,\n",
    "                payment_type=ptype,\n",
    "                amount=amt,\n",
    "                currency=\"INR\",\n",
    "                customer_id=cust.id,\n",
    "                created_at=created_at_dt,\n",
    "            )\n",
    "            session.add(payment)\n",
    "            session.commit()\n",
    "            session.refresh(payment)\n",
    "\n",
    "            order = Orders(\n",
    "                item_name=item,\n",
    "                transaction_id=payment.transaction_id,\n",
    "                restaurant_id=restaurant.restaurant_id,\n",
    "                customer_id=cust.id,\n",
    "                created_at=created_at_dt,\n",
    "            )\n",
    "            session.add(order)\n",
    "            session.commit()\n",
    "\n",
    "print(\"Created payments and orders: 5 per customer with realistic timestamps and locations.\")"
   ]
  },
  {
   "cell_type": "code",
   "execution_count": 5,
   "id": "bca5ae30",
   "metadata": {},
   "outputs": [
    {
     "name": "stdout",
     "output_type": "stream",
     "text": [
      "{'customers': 4, 'restaurants': 9, 'payments': 20, 'orders': 20}\n"
     ]
    }
   ],
   "source": [
    "# Quick summary\n",
    "with Session(engine) as session:\n",
    "    total_customers = session.exec(select(Customers)).all()\n",
    "    total_restaurants = session.exec(select(Restaurants)).all()\n",
    "    total_payments = session.exec(select(Payments)).all()\n",
    "    total_orders = session.exec(select(Orders)).all()\n",
    "\n",
    "print({\n",
    "    'customers': len(total_customers),\n",
    "    'restaurants': len(total_restaurants),\n",
    "    'payments': len(total_payments),\n",
    "    'orders': len(total_orders),\n",
    "})"
   ]
  }
 ],
 "metadata": {
  "kernelspec": {
   "display_name": ".venv",
   "language": "python",
   "name": "python3"
  },
  "language_info": {
   "codemirror_mode": {
    "name": "ipython",
    "version": 3
   },
   "file_extension": ".py",
   "mimetype": "text/x-python",
   "name": "python",
   "nbconvert_exporter": "python",
   "pygments_lexer": "ipython3",
   "version": "3.12.6"
  }
 },
 "nbformat": 4,
 "nbformat_minor": 5
}
